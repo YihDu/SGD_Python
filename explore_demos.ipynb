{
 "cells": [
  {
   "cell_type": "code",
   "execution_count": 1,
   "metadata": {},
   "outputs": [],
   "source": [
    "import src"
   ]
  },
  {
   "cell_type": "code",
   "execution_count": null,
   "metadata": {},
   "outputs": [],
   "source": [
    "%load_ext autoreload\n",
    "%autoreload 2"
   ]
  },
  {
   "cell_type": "markdown",
   "metadata": {},
   "source": [
    "## Demo1 : center vs. edge"
   ]
  },
  {
   "cell_type": "markdown",
   "metadata": {},
   "source": [
    "### edge"
   ]
  },
  {
   "cell_type": "markdown",
   "metadata": {},
   "source": [
    "sigma = 0.05"
   ]
  },
  {
   "cell_type": "code",
   "execution_count": 2,
   "metadata": {},
   "outputs": [
    {
     "name": "stdout",
     "output_type": "stream",
     "text": [
      "Graph Building took 0.02 seconds.\n",
      "get_edge_attributes took 0.00 seconds.\n",
      "KDE fitting took 0.09 seconds.\n",
      "Sampling took 0.00 seconds.\n",
      "Total process took 0.09 seconds.\n",
      "KDE fitting took 0.08 seconds.\n",
      "Sampling took 0.00 seconds.\n",
      "Total process took 0.08 seconds.\n",
      "KDE fitting took 0.09 seconds.\n",
      "Sampling took 0.00 seconds.\n",
      "Total process took 0.09 seconds.\n",
      "KDE fitting took 0.07 seconds.\n",
      "Sampling took 0.00 seconds.\n",
      "Total process took 0.07 seconds.\n",
      "KDE fitting took 0.06 seconds.\n",
      "Sampling took 0.00 seconds.\n",
      "Total process took 0.06 seconds.\n",
      "KDE fitting took 0.06 seconds.\n",
      "Sampling took 0.00 seconds.\n",
      "Total process took 0.06 seconds.\n",
      "KDE fitting took 0.06 seconds.\n",
      "Sampling took 0.00 seconds.\n",
      "Total process took 0.06 seconds.\n",
      "KDE fitting took 0.07 seconds.\n",
      "Sampling took 0.00 seconds.\n",
      "Total process took 0.07 seconds.\n",
      "KDE fitting took 0.06 seconds.\n",
      "Sampling took 0.00 seconds.\n",
      "Total process took 0.06 seconds.\n",
      "KDE fitting took 0.06 seconds.\n",
      "Sampling took 0.00 seconds.\n",
      "Total process took 0.06 seconds.\n",
      "KDE fitting took 0.06 seconds.\n",
      "Sampling took 0.00 seconds.\n",
      "Total process took 0.06 seconds.\n",
      "KDE fitting took 0.06 seconds.\n",
      "Sampling took 0.00 seconds.\n",
      "Total process took 0.06 seconds.\n",
      "KDE fitting took 0.06 seconds.\n",
      "Sampling took 0.00 seconds.\n",
      "Total process took 0.06 seconds.\n",
      "KDE fitting took 0.07 seconds.\n",
      "Sampling took 0.00 seconds.\n",
      "Total process took 0.07 seconds.\n",
      "KDE fitting took 0.06 seconds.\n",
      "Sampling took 0.00 seconds.\n",
      "Total process took 0.06 seconds.\n",
      "KDE fitting took 0.06 seconds.\n",
      "Sampling took 0.00 seconds.\n",
      "Total process took 0.06 seconds.\n",
      "KDE fitting took 0.06 seconds.\n",
      "Sampling took 0.00 seconds.\n",
      "Total process took 0.06 seconds.\n",
      "KDE fitting took 0.04 seconds.\n",
      "Sampling took 0.00 seconds.\n",
      "Total process took 0.04 seconds.\n",
      "KDE fitting took 0.06 seconds.\n",
      "Sampling took 0.00 seconds.\n",
      "Total process took 0.06 seconds.\n",
      "KDE fitting took 0.08 seconds.\n",
      "Sampling took 0.00 seconds.\n",
      "Total process took 0.08 seconds.\n",
      "Sampling took 1.31 seconds.\n",
      "Graph Analysis took 1.31 seconds.\n",
      "[1.0, 0.9999953228791513, 0.9999953228791513, 0.9999953228791513, 0.9999953228791513, 0.9999953228791513, 0.9999953228791513, 0.9999953228791513, 0.9999953228791513, 0.9999953228791513, 0.9999953228791513, 1.0, 0.9999953228791513, 0.9999953228791513, 0.9999953228791513, 0.9999953228791513, 0.9999953228791513, 0.9999953228791513, 0.9999953228791513, 0.9999953228791513, 0.9999953228791513, 0.9999953228791513, 1.0, 0.9999953228791513, 0.9999953228791513, 0.9999953228791513, 0.9999953228791513, 0.9999953228791513, 0.9999953228791513, 0.9999953228791513, 0.9999953228791513, 0.9999953228791513, 0.9999953228791513, 1.0, 0.9999953228791513, 0.9999953228791513, 0.9999953228791513, 0.9999953228791513, 0.9999953228791513, 0.9999953228791513, 0.9999953228791513, 0.9999953228791513, 0.9999953228791513, 0.9999953228791513, 1.0, 0.9999953228791513, 0.9999953228791513, 0.9999953228791513, 0.9999953228791513, 0.9999953228791513, 0.9999953228791513, 0.9999953228791513, 0.9999953228791513, 0.9999953228791513, 0.9999953228791513, 1.0, 0.9999953228791513, 0.9999953228791513, 0.9999953228791513, 0.9999953228791513, 0.9999953228791513, 0.9999953228791513, 0.9999953228791513, 0.9999953228791513, 0.9999953228791513, 0.9999953228791513, 1.0, 0.9999953228791513, 0.9999953228791513, 0.9999953228791513, 0.9999953228791513, 0.9999953228791513, 0.9999953228791513, 0.9999953228791513, 0.9999953228791513, 0.9999953228791513, 0.9999953228791513, 1.0, 0.9999953228791513, 0.9999953228791513, 0.9999953228791513, 0.9999953228791513, 0.9999953228791513, 0.9999953228791513, 0.9999953228791513, 0.9999953228791513, 0.9999953228791513, 0.9999953228791513, 1.0, 0.9999953228791513, 0.9999953228791513, 0.9999953228791513, 0.9999953228791513, 0.9999953228791513, 0.9999953228791513, 0.9999953228791513, 0.9999953228791513, 0.9999953228791513, 0.9999953228791513, 1.0]\n",
      "Entire Loop took 12.64463 seconds.\n",
      "[1.0, 0.999984609878594, 0.999984609878594, 0.999984609878594, 0.999984609878594, 0.999984609878594, 0.999984609878594, 0.999984609878594, 0.999984609878594, 0.999984609878594, 0.999984609878594, 1.0, 0.999984609878594, 0.999984609878594, 0.999984609878594, 0.999984609878594, 0.999984609878594, 0.999984609878594, 0.999984609878594, 0.999984609878594, 0.999984609878594, 0.999984609878594, 1.0, 0.999984609878594, 0.999984609878594, 0.999984609878594, 0.999984609878594, 0.999984609878594, 0.999984609878594, 0.999984609878594, 0.999984609878594, 0.999984609878594, 0.999984609878594, 1.0, 0.999984609878594, 0.999984609878594, 0.999984609878594, 0.999984609878594, 0.999984609878594, 0.999984609878594, 0.999984609878594, 0.999984609878594, 0.999984609878594, 0.999984609878594, 1.0, 0.999984609878594, 0.999984609878594, 0.999984609878594, 0.999984609878594, 0.999984609878594, 0.999984609878594, 0.999984609878594, 0.999984609878594, 0.999984609878594, 0.999984609878594, 1.0, 0.999984609878594, 0.999984609878594, 0.999984609878594, 0.999984609878594, 0.999984609878594, 0.999984609878594, 0.999984609878594, 0.999984609878594, 0.999984609878594, 0.999984609878594, 1.0, 0.999984609878594, 0.999984609878594, 0.999984609878594, 0.999984609878594, 0.999984609878594, 0.999984609878594, 0.999984609878594, 0.999984609878594, 0.999984609878594, 0.999984609878594, 1.0, 0.999984609878594, 0.999984609878594, 0.999984609878594, 0.999984609878594, 0.999984609878594, 0.999984609878594, 0.999984609878594, 0.999984609878594, 0.999984609878594, 0.999984609878594, 1.0, 0.999984609878594, 0.999984609878594, 0.999984609878594, 0.999984609878594, 0.999984609878594, 0.999984609878594, 0.999984609878594, 0.999984609878594, 0.999984609878594, 0.999984609878594, 1.0]\n",
      "Entire Loop took 11.38879 seconds.\n",
      "[0.0, 0.0, 0.0, 0.0, 0.0, 0.0, 0.0, 0.0, 0.0, 0.0, 0.0, 0.0, 0.0, 0.0, 0.0, 0.0, 0.0, 0.0, 0.0, 0.0, 0.0, 0.0, 0.0, 0.0, 0.0, 0.0, 0.0, 0.0, 0.0, 0.0, 0.0, 0.0, 0.0, 0.0, 0.0, 0.0, 0.0, 0.0, 0.0, 0.0, 0.0, 0.0, 0.0, 0.0, 0.0, 0.0, 0.0, 0.0, 0.0, 0.0, 0.0, 0.0, 0.0, 0.0, 0.0, 0.0, 0.0, 0.0, 0.0, 0.0, 0.0, 0.0, 0.0, 0.0, 0.0, 0.0, 0.0, 0.0, 0.0, 0.0, 0.0, 0.0, 0.0, 0.0, 0.0, 0.0, 0.0, 0.0, 0.0, 0.0, 0.0, 0.0, 0.0, 0.0, 0.0, 0.0, 0.0, 0.0, 0.0, 0.0, 0.0, 0.0, 0.0, 0.0, 0.0, 0.0, 0.0, 0.0, 0.0, 0.0]\n",
      "Entire Loop took 10.63567 seconds.\n",
      "SGD1 : 1.9999819394819736\n"
     ]
    }
   ],
   "source": [
    "%run src/main.py config/config_demo1/config_demo1_edge.json"
   ]
  },
  {
   "cell_type": "markdown",
   "metadata": {},
   "source": [
    "sigma = 1e-10"
   ]
  },
  {
   "cell_type": "code",
   "execution_count": null,
   "metadata": {},
   "outputs": [],
   "source": [
    "%run src/main.py config/config_demo1/config_demo1_edge.json"
   ]
  },
  {
   "cell_type": "markdown",
   "metadata": {},
   "source": [
    "sigma = 1e-8"
   ]
  },
  {
   "cell_type": "code",
   "execution_count": null,
   "metadata": {},
   "outputs": [],
   "source": [
    "%run src/main.py config/config_demo1/config_demo1_edge.json"
   ]
  },
  {
   "cell_type": "markdown",
   "metadata": {},
   "source": [
    "sigma = 1e-9"
   ]
  },
  {
   "cell_type": "code",
   "execution_count": null,
   "metadata": {},
   "outputs": [],
   "source": [
    "%run src/main.py config/config_demo1/config_demo1_edge.json"
   ]
  },
  {
   "cell_type": "markdown",
   "metadata": {},
   "source": [
    "### center"
   ]
  },
  {
   "cell_type": "code",
   "execution_count": null,
   "metadata": {},
   "outputs": [],
   "source": [
    "%run src/main.py config/config_demo1/config_demo1_center.json"
   ]
  },
  {
   "cell_type": "markdown",
   "metadata": {},
   "source": [
    "## Demo2 : FP vs. FN(Real Data)"
   ]
  },
  {
   "cell_type": "code",
   "execution_count": null,
   "metadata": {},
   "outputs": [],
   "source": [
    "%run src/main.py config/config_demo2/config_demo2_FP.json"
   ]
  },
  {
   "cell_type": "code",
   "execution_count": null,
   "metadata": {},
   "outputs": [],
   "source": [
    "%run src/main.py config/config_demo2/config_demo2_FN.json"
   ]
  },
  {
   "cell_type": "markdown",
   "metadata": {},
   "source": [
    "## Demon 3"
   ]
  },
  {
   "cell_type": "markdown",
   "metadata": {},
   "source": [
    "sigma = 1e-4"
   ]
  },
  {
   "cell_type": "code",
   "execution_count": 2,
   "metadata": {},
   "outputs": [
    {
     "name": "stdout",
     "output_type": "stream",
     "text": [
      "Graph Building took 0.23 seconds.\n",
      "get_edge_attributes took 0.08 seconds.\n",
      "KDE fitting took 0.02 seconds.\n",
      "Sampling took 0.00 seconds.\n",
      "Total process took 0.02 seconds.\n",
      "KDE fitting took 0.00 seconds.\n",
      "Sampling took 0.00 seconds.\n",
      "Total process took 0.00 seconds.\n",
      "KDE fitting took 0.00 seconds.\n",
      "Sampling took 0.00 seconds.\n",
      "Total process took 0.00 seconds.\n",
      "KDE fitting took 0.02 seconds.\n",
      "Sampling took 0.00 seconds.\n",
      "Total process took 0.02 seconds.\n",
      "KDE fitting took 0.00 seconds.\n",
      "Sampling took 0.00 seconds.\n",
      "Total process took 0.00 seconds.\n",
      "KDE fitting took 0.02 seconds.\n",
      "Sampling took 0.00 seconds.\n",
      "Total process took 0.02 seconds.\n",
      "KDE fitting took 0.00 seconds.\n",
      "Sampling took 0.00 seconds.\n",
      "Total process took 0.00 seconds.\n",
      "KDE fitting took 0.02 seconds.\n",
      "Sampling took 0.00 seconds.\n",
      "Total process took 0.02 seconds.\n",
      "KDE fitting took 0.00 seconds.\n",
      "Sampling took 0.00 seconds.\n",
      "Total process took 0.00 seconds.\n",
      "KDE fitting took 0.02 seconds.\n",
      "Sampling took 0.00 seconds.\n",
      "Total process took 0.02 seconds.\n",
      "KDE fitting took 0.01 seconds.\n",
      "Sampling took 0.00 seconds.\n",
      "Total process took 0.01 seconds.\n",
      "KDE fitting took 0.00 seconds.\n",
      "Sampling took 0.01 seconds.\n",
      "Total process took 0.01 seconds.\n",
      "KDE fitting took 0.00 seconds.\n",
      "Sampling took 0.00 seconds.\n",
      "Total process took 0.00 seconds.\n",
      "KDE fitting took 0.00 seconds.\n",
      "Sampling took 0.02 seconds.\n",
      "Total process took 0.02 seconds.\n",
      "KDE fitting took 0.00 seconds.\n",
      "Sampling took 0.00 seconds.\n",
      "Total process took 0.00 seconds.\n",
      "KDE fitting took 0.00 seconds.\n",
      "Sampling took 0.00 seconds.\n",
      "Total process took 0.00 seconds.\n",
      "KDE fitting took 0.02 seconds.\n",
      "Sampling took 0.00 seconds.\n",
      "Total process took 0.02 seconds.\n",
      "KDE fitting took 0.00 seconds.\n",
      "Sampling took 0.00 seconds.\n",
      "Total process took 0.00 seconds.\n",
      "KDE fitting took 0.02 seconds.\n",
      "Sampling took 0.00 seconds.\n",
      "Total process took 0.02 seconds.\n",
      "KDE fitting took 0.00 seconds.\n",
      "Sampling took 0.00 seconds.\n",
      "Total process took 0.00 seconds.\n",
      "Sampling took 0.23 seconds.\n",
      "Sample sets truth length  10\n",
      "shape of each array in sample sets truth  (11051, 7)\n",
      "Graph Analysis took 0.23 seconds.\n"
     ]
    },
    {
     "name": "stderr",
     "output_type": "stream",
     "text": [
      "100%|██████████| 100/100 [06:57<00:00,  4.17s/it]\n"
     ]
    },
    {
     "name": "stdout",
     "output_type": "stream",
     "text": [
      "[1.0, 0.8780270176228175, 0.8780270176228175, 0.8780270176228175, 0.8780270176228175, 0.8780270176228175, 0.8780270176228175, 0.8780270176228175, 0.8780270176228175, 0.8780270176228175, 0.8780270176228175, 1.0, 0.8780270176228175, 0.8780270176228175, 0.8780270176228175, 0.8780270176228175, 0.8780270176228175, 0.8780270176228175, 0.8780270176228175, 0.8780270176228175, 0.8780270176228175, 0.8780270176228175, 1.0, 0.8780270176228175, 0.8780270176228175, 0.8780270176228175, 0.8780270176228175, 0.8780270176228175, 0.8780270176228175, 0.8780270176228175, 0.8780270176228175, 0.8780270176228175, 0.8780270176228175, 1.0, 0.8780270176228175, 0.8780270176228175, 0.8780270176228175, 0.8780270176228175, 0.8780270176228175, 0.8780270176228175, 0.8780270176228175, 0.8780270176228175, 0.8780270176228175, 0.8780270176228175, 1.0, 0.8780270176228175, 0.8780270176228175, 0.8780270176228175, 0.8780270176228175, 0.8780270176228175, 0.8780270176228175, 0.8780270176228175, 0.8780270176228175, 0.8780270176228175, 0.8780270176228175, 1.0, 0.8780270176228175, 0.8780270176228175, 0.8780270176228175, 0.8780270176228175, 0.8780270176228175, 0.8780270176228175, 0.8780270176228175, 0.8780270176228175, 0.8780270176228175, 0.8780270176228175, 1.0, 0.8780270176228175, 0.8780270176228175, 0.8780270176228175, 0.8780270176228175, 0.8780270176228175, 0.8780270176228175, 0.8780270176228175, 0.8780270176228175, 0.8780270176228175, 0.8780270176228175, 1.0, 0.8780270176228175, 0.8780270176228175, 0.8780270176228175, 0.8780270176228175, 0.8780270176228175, 0.8780270176228175, 0.8780270176228175, 0.8780270176228175, 0.8780270176228175, 0.8780270176228175, 1.0, 0.8780270176228175, 0.8780270176228175, 0.8780270176228175, 0.8780270176228175, 0.8780270176228175, 0.8780270176228175, 0.8780270176228175, 0.8780270176228175, 0.8780270176228175, 0.8780270176228175, 1.0]\n",
      "Entire Loop took 418.85230 seconds.\n"
     ]
    },
    {
     "name": "stderr",
     "output_type": "stream",
     "text": [
      "100%|██████████| 100/100 [07:02<00:00,  4.22s/it]\n"
     ]
    },
    {
     "name": "stdout",
     "output_type": "stream",
     "text": [
      "[1.0, 0.8522334650101371, 0.8522334650101371, 0.8522334650101371, 0.8522334650101371, 0.8522334650101371, 0.8522334650101371, 0.8522334650101371, 0.8522334650101371, 0.8522334650101371, 0.8522334650101371, 1.0, 0.8522334650101371, 0.8522334650101371, 0.8522334650101371, 0.8522334650101371, 0.8522334650101371, 0.8522334650101371, 0.8522334650101371, 0.8522334650101371, 0.8522334650101371, 0.8522334650101371, 1.0, 0.8522334650101371, 0.8522334650101371, 0.8522334650101371, 0.8522334650101371, 0.8522334650101371, 0.8522334650101371, 0.8522334650101371, 0.8522334650101371, 0.8522334650101371, 0.8522334650101371, 1.0, 0.8522334650101371, 0.8522334650101371, 0.8522334650101371, 0.8522334650101371, 0.8522334650101371, 0.8522334650101371, 0.8522334650101371, 0.8522334650101371, 0.8522334650101371, 0.8522334650101371, 1.0, 0.8522334650101371, 0.8522334650101371, 0.8522334650101371, 0.8522334650101371, 0.8522334650101371, 0.8522334650101371, 0.8522334650101371, 0.8522334650101371, 0.8522334650101371, 0.8522334650101371, 1.0, 0.8522334650101371, 0.8522334650101371, 0.8522334650101371, 0.8522334650101371, 0.8522334650101371, 0.8522334650101371, 0.8522334650101371, 0.8522334650101371, 0.8522334650101371, 0.8522334650101371, 1.0, 0.8522334650101371, 0.8522334650101371, 0.8522334650101371, 0.8522334650101371, 0.8522334650101371, 0.8522334650101371, 0.8522334650101371, 0.8522334650101371, 0.8522334650101371, 0.8522334650101371, 1.0, 0.8522334650101371, 0.8522334650101371, 0.8522334650101371, 0.8522334650101371, 0.8522334650101371, 0.8522334650101371, 0.8522334650101371, 0.8522334650101371, 0.8522334650101371, 0.8522334650101371, 1.0, 0.8522334650101371, 0.8522334650101371, 0.8522334650101371, 0.8522334650101371, 0.8522334650101371, 0.8522334650101371, 0.8522334650101371, 0.8522334650101371, 0.8522334650101371, 0.8522334650101371, 1.0]\n",
      "Entire Loop took 423.90293 seconds.\n"
     ]
    },
    {
     "name": "stderr",
     "output_type": "stream",
     "text": [
      "100%|██████████| 100/100 [40:01<00:00, 24.02s/it]  \n"
     ]
    },
    {
     "name": "stdout",
     "output_type": "stream",
     "text": [
      "[0.0, 0.0, 0.0, 0.0, 0.0, 0.0, 0.0, 0.0, 0.0, 0.0, 0.0, 0.0, 0.0, 0.0, 0.0, 0.0, 0.0, 0.0, 0.0, 0.0, 0.0, 0.0, 0.0, 0.0, 0.0, 0.0, 0.0, 0.0, 0.0, 0.0, 0.0, 0.0, 0.0, 0.0, 0.0, 0.0, 0.0, 0.0, 0.0, 0.0, 0.0, 0.0, 0.0, 0.0, 0.0, 0.0, 0.0, 0.0, 0.0, 0.0, 0.0, 0.0, 0.0, 0.0, 0.0, 0.0, 0.0, 0.0, 0.0, 0.0, 0.0, 0.0, 0.0, 0.0, 0.0, 0.0, 0.0, 0.0, 0.0, 0.0, 0.0, 0.0, 0.0, 0.0, 0.0, 0.0, 0.0, 0.0, 0.0, 0.0, 0.0, 0.0, 0.0, 0.0, 0.0, 0.0, 0.0, 0.0, 0.0, 0.0, 0.0, 0.0, 0.0, 0.0, 0.0, 0.0, 0.0, 0.0, 0.0, 0.0]\n",
      "Entire Loop took 2404.90496 seconds.\n",
      "SGD1 : 1.757234434369657\n"
     ]
    }
   ],
   "source": [
    "%run src/main.py config/config_demo3/config_demo3_sim.json"
   ]
  },
  {
   "cell_type": "code",
   "execution_count": 2,
   "metadata": {},
   "outputs": [
    {
     "name": "stdout",
     "output_type": "stream",
     "text": [
      "Graph Building took 0.28 seconds.\n",
      "get_edge_attributes took 0.09 seconds.\n",
      "KDE fitting took 0.01 seconds.\n",
      "Sampling took 0.00 seconds.\n",
      "Total process took 0.01 seconds.\n",
      "KDE fitting took 0.01 seconds.\n",
      "Sampling took 0.00 seconds.\n",
      "Total process took 0.01 seconds.\n",
      "KDE fitting took 0.01 seconds.\n",
      "Sampling took 0.00 seconds.\n",
      "Total process took 0.01 seconds.\n",
      "KDE fitting took 0.01 seconds.\n",
      "Sampling took 0.00 seconds.\n",
      "Total process took 0.01 seconds.\n",
      "KDE fitting took 0.01 seconds.\n",
      "Sampling took 0.00 seconds.\n",
      "Total process took 0.01 seconds.\n",
      "KDE fitting took 0.01 seconds.\n",
      "Sampling took 0.00 seconds.\n",
      "Total process took 0.01 seconds.\n",
      "KDE fitting took 0.01 seconds.\n",
      "Sampling took 0.00 seconds.\n",
      "Total process took 0.01 seconds.\n",
      "KDE fitting took 0.01 seconds.\n",
      "Sampling took 0.00 seconds.\n",
      "Total process took 0.01 seconds.\n",
      "KDE fitting took 0.01 seconds.\n",
      "Sampling took 0.00 seconds.\n",
      "Total process took 0.01 seconds.\n",
      "KDE fitting took 0.01 seconds.\n",
      "Sampling took 0.00 seconds.\n",
      "Total process took 0.01 seconds.\n",
      "KDE fitting took 0.01 seconds.\n",
      "Sampling took 0.00 seconds.\n",
      "Total process took 0.01 seconds.\n",
      "KDE fitting took 0.01 seconds.\n",
      "Sampling took 0.00 seconds.\n",
      "Total process took 0.01 seconds.\n",
      "KDE fitting took 0.01 seconds.\n",
      "Sampling took 0.00 seconds.\n",
      "Total process took 0.01 seconds.\n",
      "KDE fitting took 0.01 seconds.\n",
      "Sampling took 0.00 seconds.\n",
      "Total process took 0.01 seconds.\n",
      "KDE fitting took 0.01 seconds.\n",
      "Sampling took 0.00 seconds.\n",
      "Total process took 0.01 seconds.\n",
      "KDE fitting took 0.01 seconds.\n",
      "Sampling took 0.00 seconds.\n",
      "Total process took 0.01 seconds.\n",
      "KDE fitting took 0.01 seconds.\n",
      "Sampling took 0.00 seconds.\n",
      "Total process took 0.01 seconds.\n",
      "KDE fitting took 0.01 seconds.\n",
      "Sampling took 0.00 seconds.\n",
      "Total process took 0.01 seconds.\n",
      "KDE fitting took 0.01 seconds.\n",
      "Sampling took 0.00 seconds.\n",
      "Total process took 0.01 seconds.\n",
      "KDE fitting took 0.01 seconds.\n",
      "Sampling took 0.00 seconds.\n",
      "Total process took 0.01 seconds.\n",
      "Sampling took 0.27 seconds.\n",
      "Sample sets truth length  10\n",
      "shape of each array in sample sets truth  (11051, 7)\n",
      "Graph Analysis took 0.27 seconds.\n"
     ]
    },
    {
     "name": "stderr",
     "output_type": "stream",
     "text": [
      "100%|██████████| 100/100 [13:04<00:00,  7.84s/it]\n"
     ]
    },
    {
     "name": "stdout",
     "output_type": "stream",
     "text": [
      "[1.0, 0.8780270176228175, 0.8780270176228175, 0.8780270176228175, 0.8780270176228175, 0.8780270176228175, 0.8780270176228175, 0.8780270176228175, 0.8780270176228175, 0.8780270176228175, 0.8780270176228175, 1.0, 0.8780270176228175, 0.8780270176228175, 0.8780270176228175, 0.8780270176228175, 0.8780270176228175, 0.8780270176228175, 0.8780270176228175, 0.8780270176228175, 0.8780270176228175, 0.8780270176228175, 1.0, 0.8780270176228175, 0.8780270176228175, 0.8780270176228175, 0.8780270176228175, 0.8780270176228175, 0.8780270176228175, 0.8780270176228175, 0.8780270176228175, 0.8780270176228175, 0.8780270176228175, 1.0, 0.8780270176228175, 0.8780270176228175, 0.8780270176228175, 0.8780270176228175, 0.8780270176228175, 0.8780270176228175, 0.8780270176228175, 0.8780270176228175, 0.8780270176228175, 0.8780270176228175, 1.0, 0.8780270176228175, 0.8780270176228175, 0.8780270176228175, 0.8780270176228175, 0.8780270176228175, 0.8780270176228175, 0.8780270176228175, 0.8780270176228175, 0.8780270176228175, 0.8780270176228175, 1.0, 0.8780270176228175, 0.8780270176228175, 0.8780270176228175, 0.8780270176228175, 0.8780270176228175, 0.8780270176228175, 0.8780270176228175, 0.8780270176228175, 0.8780270176228175, 0.8780270176228175, 1.0, 0.8780270176228175, 0.8780270176228175, 0.8780270176228175, 0.8780270176228175, 0.8780270176228175, 0.8780270176228175, 0.8780270176228175, 0.8780270176228175, 0.8780270176228175, 0.8780270176228175, 1.0, 0.8780270176228175, 0.8780270176228175, 0.8780270176228175, 0.8780270176228175, 0.8780270176228175, 0.8780270176228175, 0.8780270176228175, 0.8780270176228175, 0.8780270176228175, 0.8780270176228175, 1.0, 0.8780270176228175, 0.8780270176228175, 0.8780270176228175, 0.8780270176228175, 0.8780270176228175, 0.8780270176228175, 0.8780270176228175, 0.8780270176228175, 0.8780270176228175, 0.8780270176228175, 1.0]\n",
      "Entire Loop took 787.26833 seconds.\n"
     ]
    },
    {
     "name": "stderr",
     "output_type": "stream",
     "text": [
      "100%|██████████| 100/100 [08:18<00:00,  4.99s/it]\n"
     ]
    },
    {
     "name": "stdout",
     "output_type": "stream",
     "text": [
      "[1.0, 0.8560983551235097, 0.8560983551235097, 0.8560983551235097, 0.8560983551235097, 0.8560983551235097, 0.8560983551235097, 0.8560983551235097, 0.8560983551235097, 0.8560983551235097, 0.8560983551235097, 1.0, 0.8560983551235097, 0.8560983551235097, 0.8560983551235097, 0.8560983551235097, 0.8560983551235097, 0.8560983551235097, 0.8560983551235097, 0.8560983551235097, 0.8560983551235097, 0.8560983551235097, 1.0, 0.8560983551235097, 0.8560983551235097, 0.8560983551235097, 0.8560983551235097, 0.8560983551235097, 0.8560983551235097, 0.8560983551235097, 0.8560983551235097, 0.8560983551235097, 0.8560983551235097, 1.0, 0.8560983551235097, 0.8560983551235097, 0.8560983551235097, 0.8560983551235097, 0.8560983551235097, 0.8560983551235097, 0.8560983551235097, 0.8560983551235097, 0.8560983551235097, 0.8560983551235097, 1.0, 0.8560983551235097, 0.8560983551235097, 0.8560983551235097, 0.8560983551235097, 0.8560983551235097, 0.8560983551235097, 0.8560983551235097, 0.8560983551235097, 0.8560983551235097, 0.8560983551235097, 1.0, 0.8560983551235097, 0.8560983551235097, 0.8560983551235097, 0.8560983551235097, 0.8560983551235097, 0.8560983551235097, 0.8560983551235097, 0.8560983551235097, 0.8560983551235097, 0.8560983551235097, 1.0, 0.8560983551235097, 0.8560983551235097, 0.8560983551235097, 0.8560983551235097, 0.8560983551235097, 0.8560983551235097, 0.8560983551235097, 0.8560983551235097, 0.8560983551235097, 0.8560983551235097, 1.0, 0.8560983551235097, 0.8560983551235097, 0.8560983551235097, 0.8560983551235097, 0.8560983551235097, 0.8560983551235097, 0.8560983551235097, 0.8560983551235097, 0.8560983551235097, 0.8560983551235097, 1.0, 0.8560983551235097, 0.8560983551235097, 0.8560983551235097, 0.8560983551235097, 0.8560983551235097, 0.8560983551235097, 0.8560983551235097, 0.8560983551235097, 0.8560983551235097, 0.8560983551235097, 1.0]\n",
      "Entire Loop took 501.09835 seconds.\n"
     ]
    },
    {
     "name": "stderr",
     "output_type": "stream",
     "text": [
      " 98%|█████████▊| 98/100 [31:19<01:00, 30.44s/it] "
     ]
    }
   ],
   "source": [
    "%run src/main.py config/config_demo3/config_demo3_dissim.json"
   ]
  }
 ],
 "metadata": {
  "kernelspec": {
   "display_name": "Pytorch",
   "language": "python",
   "name": "python3"
  },
  "language_info": {
   "codemirror_mode": {
    "name": "ipython",
    "version": 3
   },
   "file_extension": ".py",
   "mimetype": "text/x-python",
   "name": "python",
   "nbconvert_exporter": "python",
   "pygments_lexer": "ipython3",
   "version": "3.11.7"
  }
 },
 "nbformat": 4,
 "nbformat_minor": 2
}
